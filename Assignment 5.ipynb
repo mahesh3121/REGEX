{
 "cells": [
  {
   "cell_type": "markdown",
   "id": "667a8d43",
   "metadata": {},
   "source": [
    "# ML & DL Registration / Referral ID:AIRSS1190 Full Name: Mahesh Balaram Madhvi College Name: K.J.Somaiya College of Engineering"
   ]
  },
  {
   "cell_type": "markdown",
   "id": "c8776066",
   "metadata": {},
   "source": [
    "# Assignment 5"
   ]
  },
  {
   "cell_type": "markdown",
   "id": "ffdf63ec",
   "metadata": {},
   "source": [
    "# Question 1"
   ]
  },
  {
   "cell_type": "markdown",
   "id": "d574704e",
   "metadata": {},
   "source": [
    "### Q1. Given a list of integers, write a function to return the sum of all prime numbers in that list."
   ]
  },
  {
   "cell_type": "code",
   "execution_count": 1,
   "id": "fb1069f1",
   "metadata": {},
   "outputs": [
    {
     "name": "stdout",
     "output_type": "stream",
     "text": [
      "23\n",
      "23\n"
     ]
    }
   ],
   "source": [
    "integers=input(\"\").split(' ')\n",
    "sum_primes=0\n",
    "for n in integers:\n",
    "    n=int(n)\n",
    "    isPrime=True\n",
    "    if n > 1:\n",
    "    \n",
    "        for i in range(2, n):\n",
    "            if (n % i) == 0:\n",
    "                isPrime=False\n",
    "                break\n",
    "        if isPrime:\n",
    "            sum_primes+=n\n",
    "\n",
    "\n",
    "print(str(sum_primes))"
   ]
  },
  {
   "cell_type": "markdown",
   "id": "405d3613",
   "metadata": {},
   "source": [
    "# Question 2"
   ]
  },
  {
   "cell_type": "markdown",
   "id": "a0c2993d",
   "metadata": {},
   "source": [
    "### Q2. Given a list of integers, write a function to check whether the list is strictly increasing or not."
   ]
  },
  {
   "cell_type": "code",
   "execution_count": 2,
   "id": "b5582090",
   "metadata": {},
   "outputs": [],
   "source": [
    "def order(arr):\n",
    "    for i in range(1, len(arr)):\n",
    "        if arr[i] > arr[i - 1]:\n",
    "            return 'STRICTLY INCREASING'\n",
    "    return 'STRICTLY DECREASING'"
   ]
  },
  {
   "cell_type": "code",
   "execution_count": 4,
   "id": "ed3f4168",
   "metadata": {},
   "outputs": [
    {
     "data": {
      "text/plain": [
       "'STRICTLY INCREASING'"
      ]
     },
     "execution_count": 4,
     "metadata": {},
     "output_type": "execute_result"
    }
   ],
   "source": [
    "order([2, 3, 4, 5, 6, 7, 78])"
   ]
  },
  {
   "cell_type": "code",
   "execution_count": 7,
   "id": "6cfdc340",
   "metadata": {},
   "outputs": [
    {
     "data": {
      "text/plain": [
       "'STRICTLY DECREASING'"
      ]
     },
     "execution_count": 7,
     "metadata": {},
     "output_type": "execute_result"
    }
   ],
   "source": [
    "order([7,6,5,4,3,2,1])"
   ]
  },
  {
   "cell_type": "markdown",
   "id": "fa1ddf8e",
   "metadata": {},
   "source": [
    "# Question 3"
   ]
  },
  {
   "cell_type": "markdown",
   "id": "6318c71a",
   "metadata": {},
   "source": [
    "### Q3. Write a function to check whether a given list is expanding or not (the difference between adjacent elements should keep on increasing)."
   ]
  },
  {
   "cell_type": "code",
   "execution_count": 2,
   "id": "6dc593d8",
   "metadata": {},
   "outputs": [
    {
     "data": {
      "text/plain": [
       "True"
      ]
     },
     "execution_count": 2,
     "metadata": {},
     "output_type": "execute_result"
    }
   ],
   "source": [
    "import numpy as np\n",
    "def expanding(k):\n",
    "    if isinstance(k, list):\n",
    "        k = np.array(k)\n",
    "\n",
    "    return (np.diff(abs(k[1:] - k[:-1])) > 0).all()\n",
    "expanding([1,2,5,10,17])"
   ]
  },
  {
   "cell_type": "markdown",
   "id": "2bb8db30",
   "metadata": {},
   "source": [
    "# Question 4"
   ]
  },
  {
   "cell_type": "markdown",
   "id": "eb2ad1b5",
   "metadata": {},
   "source": [
    "### Q4. Write a function to calculate all permutations of a given string. (Without using itertools)"
   ]
  },
  {
   "cell_type": "code",
   "execution_count": 3,
   "id": "7f997b58",
   "metadata": {},
   "outputs": [],
   "source": [
    "def permutations(s):\n",
    "    base = len(s)\n",
    "    for n in range(base**base):\n",
    "        yield \"\".join(s[n // base**(base-d-1) % base] for d in range(base))"
   ]
  },
  {
   "cell_type": "code",
   "execution_count": 4,
   "id": "33a2d4bf",
   "metadata": {},
   "outputs": [
    {
     "name": "stdout",
     "output_type": "stream",
     "text": [
      "bbb\n",
      "bby\n",
      "bbe\n",
      "byb\n",
      "byy\n",
      "bye\n",
      "beb\n",
      "bey\n",
      "bee\n",
      "ybb\n",
      "yby\n",
      "ybe\n",
      "yyb\n",
      "yyy\n",
      "yye\n",
      "yeb\n",
      "yey\n",
      "yee\n",
      "ebb\n",
      "eby\n",
      "ebe\n",
      "eyb\n",
      "eyy\n",
      "eye\n",
      "eeb\n",
      "eey\n",
      "eee\n"
     ]
    }
   ],
   "source": [
    "for r in permutations(\"bye\"):\n",
    "    print(r)"
   ]
  },
  {
   "cell_type": "code",
   "execution_count": null,
   "id": "b5a9e69d",
   "metadata": {},
   "outputs": [],
   "source": []
  }
 ],
 "metadata": {
  "kernelspec": {
   "display_name": "Python 3",
   "language": "python",
   "name": "python3"
  },
  "language_info": {
   "codemirror_mode": {
    "name": "ipython",
    "version": 3
   },
   "file_extension": ".py",
   "mimetype": "text/x-python",
   "name": "python",
   "nbconvert_exporter": "python",
   "pygments_lexer": "ipython3",
   "version": "3.8.8"
  }
 },
 "nbformat": 4,
 "nbformat_minor": 5
}
