{
 "cells": [
  {
   "cell_type": "markdown",
   "id": "a9e4ba87",
   "metadata": {},
   "source": [
    "# ML & DL Registration / Referral ID:AIRSS1190 Full Name: Mahesh Balaram Madhvi College Name: K.J.Somaiya College of Engineering"
   ]
  },
  {
   "cell_type": "markdown",
   "id": "f0bc67e1",
   "metadata": {},
   "source": [
    "# Assignment  4"
   ]
  },
  {
   "cell_type": "markdown",
   "id": "b6a4275d",
   "metadata": {},
   "source": [
    "# \"Perform EDA on a dataset of your choice\""
   ]
  },
  {
   "cell_type": "markdown",
   "id": "ad0fb6dd",
   "metadata": {},
   "source": [
    "First, let’s import the necessary libraries and store the data in our system for analysis."
   ]
  },
  {
   "cell_type": "code",
   "execution_count": 3,
   "id": "8a5f20fd",
   "metadata": {},
   "outputs": [],
   "source": [
    "import numpy as np\n",
    "import pandas as pd\n",
    "import matplotlib.pyplot as plt\n",
    "import seaborn as sns\n",
    "import warnings\n",
    "warnings.simplefilter(\"ignore\")"
   ]
  },
  {
   "cell_type": "code",
   "execution_count": 4,
   "id": "ba654d50",
   "metadata": {},
   "outputs": [],
   "source": [
    "df = pd.read_csv('alcohol_consumption.csv')"
   ]
  },
  {
   "cell_type": "markdown",
   "id": "83d813b9",
   "metadata": {},
   "source": [
    "Displaying first 10 rows"
   ]
  },
  {
   "cell_type": "code",
   "execution_count": 5,
   "id": "e7bb01ec",
   "metadata": {},
   "outputs": [
    {
     "data": {
      "text/html": [
       "<div>\n",
       "<style scoped>\n",
       "    .dataframe tbody tr th:only-of-type {\n",
       "        vertical-align: middle;\n",
       "    }\n",
       "\n",
       "    .dataframe tbody tr th {\n",
       "        vertical-align: top;\n",
       "    }\n",
       "\n",
       "    .dataframe thead th {\n",
       "        text-align: right;\n",
       "    }\n",
       "</style>\n",
       "<table border=\"1\" class=\"dataframe\">\n",
       "  <thead>\n",
       "    <tr style=\"text-align: right;\">\n",
       "      <th></th>\n",
       "      <th>year</th>\n",
       "      <th>region</th>\n",
       "      <th>wine</th>\n",
       "      <th>beer</th>\n",
       "      <th>vodka</th>\n",
       "      <th>champagne</th>\n",
       "    </tr>\n",
       "  </thead>\n",
       "  <tbody>\n",
       "    <tr>\n",
       "      <th>0</th>\n",
       "      <td>1998.0</td>\n",
       "      <td>Republic of Adygea</td>\n",
       "      <td>1.9</td>\n",
       "      <td>8.8</td>\n",
       "      <td>3.4</td>\n",
       "      <td>0.3</td>\n",
       "    </tr>\n",
       "    <tr>\n",
       "      <th>1</th>\n",
       "      <td>1998.0</td>\n",
       "      <td>Altai Krai</td>\n",
       "      <td>3.3</td>\n",
       "      <td>19.2</td>\n",
       "      <td>11.3</td>\n",
       "      <td>1.1</td>\n",
       "    </tr>\n",
       "    <tr>\n",
       "      <th>2</th>\n",
       "      <td>1998.0</td>\n",
       "      <td>Amur Oblast</td>\n",
       "      <td>2.1</td>\n",
       "      <td>21.2</td>\n",
       "      <td>17.3</td>\n",
       "      <td>0.7</td>\n",
       "    </tr>\n",
       "    <tr>\n",
       "      <th>3</th>\n",
       "      <td>1998.0</td>\n",
       "      <td>Arkhangelsk Oblast</td>\n",
       "      <td>4.3</td>\n",
       "      <td>10.6</td>\n",
       "      <td>11.7</td>\n",
       "      <td>0.4</td>\n",
       "    </tr>\n",
       "    <tr>\n",
       "      <th>4</th>\n",
       "      <td>1998.0</td>\n",
       "      <td>Astrakhan Oblast</td>\n",
       "      <td>2.9</td>\n",
       "      <td>18.0</td>\n",
       "      <td>9.5</td>\n",
       "      <td>0.8</td>\n",
       "    </tr>\n",
       "    <tr>\n",
       "      <th>5</th>\n",
       "      <td>1998.0</td>\n",
       "      <td>Republic of Bashkortostan</td>\n",
       "      <td>1.8</td>\n",
       "      <td>17.5</td>\n",
       "      <td>10.7</td>\n",
       "      <td>0.9</td>\n",
       "    </tr>\n",
       "    <tr>\n",
       "      <th>6</th>\n",
       "      <td>1998.0</td>\n",
       "      <td>Belgorod Oblast</td>\n",
       "      <td>3.4</td>\n",
       "      <td>23.0</td>\n",
       "      <td>10.8</td>\n",
       "      <td>0.9</td>\n",
       "    </tr>\n",
       "    <tr>\n",
       "      <th>7</th>\n",
       "      <td>1998.0</td>\n",
       "      <td>Bryansk Oblast</td>\n",
       "      <td>3.4</td>\n",
       "      <td>32.4</td>\n",
       "      <td>9.7</td>\n",
       "      <td>0.5</td>\n",
       "    </tr>\n",
       "    <tr>\n",
       "      <th>8</th>\n",
       "      <td>1998.0</td>\n",
       "      <td>Republic of Buryatia</td>\n",
       "      <td>1.1</td>\n",
       "      <td>8.8</td>\n",
       "      <td>15.8</td>\n",
       "      <td>0.9</td>\n",
       "    </tr>\n",
       "    <tr>\n",
       "      <th>9</th>\n",
       "      <td>1998.0</td>\n",
       "      <td>Vladimir Oblast</td>\n",
       "      <td>1.5</td>\n",
       "      <td>16.6</td>\n",
       "      <td>16.8</td>\n",
       "      <td>0.5</td>\n",
       "    </tr>\n",
       "  </tbody>\n",
       "</table>\n",
       "</div>"
      ],
      "text/plain": [
       "     year                     region  wine  beer  vodka  champagne\n",
       "0  1998.0         Republic of Adygea   1.9   8.8    3.4        0.3\n",
       "1  1998.0                 Altai Krai   3.3  19.2   11.3        1.1\n",
       "2  1998.0                Amur Oblast   2.1  21.2   17.3        0.7\n",
       "3  1998.0         Arkhangelsk Oblast   4.3  10.6   11.7        0.4\n",
       "4  1998.0           Astrakhan Oblast   2.9  18.0    9.5        0.8\n",
       "5  1998.0  Republic of Bashkortostan   1.8  17.5   10.7        0.9\n",
       "6  1998.0            Belgorod Oblast   3.4  23.0   10.8        0.9\n",
       "7  1998.0             Bryansk Oblast   3.4  32.4    9.7        0.5\n",
       "8  1998.0       Republic of Buryatia   1.1   8.8   15.8        0.9\n",
       "9  1998.0            Vladimir Oblast   1.5  16.6   16.8        0.5"
      ]
     },
     "execution_count": 5,
     "metadata": {},
     "output_type": "execute_result"
    }
   ],
   "source": [
    "df.head(10)"
   ]
  },
  {
   "cell_type": "markdown",
   "id": "bfe48f71",
   "metadata": {},
   "source": [
    "#Displaying last 10 rows"
   ]
  },
  {
   "cell_type": "code",
   "execution_count": 6,
   "id": "2b13b2d1",
   "metadata": {},
   "outputs": [
    {
     "data": {
      "text/html": [
       "<div>\n",
       "<style scoped>\n",
       "    .dataframe tbody tr th:only-of-type {\n",
       "        vertical-align: middle;\n",
       "    }\n",
       "\n",
       "    .dataframe tbody tr th {\n",
       "        vertical-align: top;\n",
       "    }\n",
       "\n",
       "    .dataframe thead th {\n",
       "        text-align: right;\n",
       "    }\n",
       "</style>\n",
       "<table border=\"1\" class=\"dataframe\">\n",
       "  <thead>\n",
       "    <tr style=\"text-align: right;\">\n",
       "      <th></th>\n",
       "      <th>year</th>\n",
       "      <th>region</th>\n",
       "      <th>wine</th>\n",
       "      <th>beer</th>\n",
       "      <th>vodka</th>\n",
       "      <th>champagne</th>\n",
       "    </tr>\n",
       "  </thead>\n",
       "  <tbody>\n",
       "    <tr>\n",
       "      <th>1605</th>\n",
       "      <td>2016.000000</td>\n",
       "      <td>Khabarovsk Krai</td>\n",
       "      <td>7.000000</td>\n",
       "      <td>73.700000</td>\n",
       "      <td>11.200000</td>\n",
       "      <td>2.600000</td>\n",
       "    </tr>\n",
       "    <tr>\n",
       "      <th>1606</th>\n",
       "      <td>2016.000000</td>\n",
       "      <td>Republic of Khakassia</td>\n",
       "      <td>4.300000</td>\n",
       "      <td>79.100000</td>\n",
       "      <td>4.700000</td>\n",
       "      <td>1.400000</td>\n",
       "    </tr>\n",
       "    <tr>\n",
       "      <th>1607</th>\n",
       "      <td>2016.000000</td>\n",
       "      <td>Khanty–Mansi Autonomous Okrug – Yugra</td>\n",
       "      <td>4.300000</td>\n",
       "      <td>67.500000</td>\n",
       "      <td>9.200000</td>\n",
       "      <td>2.000000</td>\n",
       "    </tr>\n",
       "    <tr>\n",
       "      <th>1608</th>\n",
       "      <td>2016.000000</td>\n",
       "      <td>Chelyabinsk Oblast</td>\n",
       "      <td>5.300000</td>\n",
       "      <td>42.600000</td>\n",
       "      <td>5.100000</td>\n",
       "      <td>1.200000</td>\n",
       "    </tr>\n",
       "    <tr>\n",
       "      <th>1609</th>\n",
       "      <td>2016.000000</td>\n",
       "      <td>Chechen Republic</td>\n",
       "      <td>NaN</td>\n",
       "      <td>1.200000</td>\n",
       "      <td>NaN</td>\n",
       "      <td>NaN</td>\n",
       "    </tr>\n",
       "    <tr>\n",
       "      <th>1610</th>\n",
       "      <td>2016.000000</td>\n",
       "      <td>Chuvash Republic</td>\n",
       "      <td>5.000000</td>\n",
       "      <td>42.300000</td>\n",
       "      <td>7.700000</td>\n",
       "      <td>0.700000</td>\n",
       "    </tr>\n",
       "    <tr>\n",
       "      <th>1611</th>\n",
       "      <td>2016.437107</td>\n",
       "      <td>Republic of Adygea</td>\n",
       "      <td>7.435593</td>\n",
       "      <td>68.541797</td>\n",
       "      <td>8.128805</td>\n",
       "      <td>1.786502</td>\n",
       "    </tr>\n",
       "    <tr>\n",
       "      <th>1612</th>\n",
       "      <td>2016.448844</td>\n",
       "      <td>Altai Krai</td>\n",
       "      <td>7.437838</td>\n",
       "      <td>68.563324</td>\n",
       "      <td>8.124211</td>\n",
       "      <td>1.787091</td>\n",
       "    </tr>\n",
       "    <tr>\n",
       "      <th>1613</th>\n",
       "      <td>2016.460580</td>\n",
       "      <td>Amur Oblast</td>\n",
       "      <td>7.440084</td>\n",
       "      <td>68.584850</td>\n",
       "      <td>8.119618</td>\n",
       "      <td>1.787680</td>\n",
       "    </tr>\n",
       "    <tr>\n",
       "      <th>1614</th>\n",
       "      <td>2016.472316</td>\n",
       "      <td>Arkhangelsk Oblast</td>\n",
       "      <td>7.442330</td>\n",
       "      <td>68.606376</td>\n",
       "      <td>8.115024</td>\n",
       "      <td>1.788269</td>\n",
       "    </tr>\n",
       "  </tbody>\n",
       "</table>\n",
       "</div>"
      ],
      "text/plain": [
       "             year                                 region      wine       beer  \\\n",
       "1605  2016.000000                        Khabarovsk Krai  7.000000  73.700000   \n",
       "1606  2016.000000                  Republic of Khakassia  4.300000  79.100000   \n",
       "1607  2016.000000  Khanty–Mansi Autonomous Okrug – Yugra  4.300000  67.500000   \n",
       "1608  2016.000000                     Chelyabinsk Oblast  5.300000  42.600000   \n",
       "1609  2016.000000                       Chechen Republic       NaN   1.200000   \n",
       "1610  2016.000000                       Chuvash Republic  5.000000  42.300000   \n",
       "1611  2016.437107                     Republic of Adygea  7.435593  68.541797   \n",
       "1612  2016.448844                             Altai Krai  7.437838  68.563324   \n",
       "1613  2016.460580                            Amur Oblast  7.440084  68.584850   \n",
       "1614  2016.472316                     Arkhangelsk Oblast  7.442330  68.606376   \n",
       "\n",
       "          vodka  champagne  \n",
       "1605  11.200000   2.600000  \n",
       "1606   4.700000   1.400000  \n",
       "1607   9.200000   2.000000  \n",
       "1608   5.100000   1.200000  \n",
       "1609        NaN        NaN  \n",
       "1610   7.700000   0.700000  \n",
       "1611   8.128805   1.786502  \n",
       "1612   8.124211   1.787091  \n",
       "1613   8.119618   1.787680  \n",
       "1614   8.115024   1.788269  "
      ]
     },
     "execution_count": 6,
     "metadata": {},
     "output_type": "execute_result"
    }
   ],
   "source": [
    "df.tail(10)"
   ]
  },
  {
   "cell_type": "markdown",
   "id": "693c1fcd",
   "metadata": {},
   "source": [
    "Displaying general information about our dataset"
   ]
  },
  {
   "cell_type": "code",
   "execution_count": 14,
   "id": "2f42fc12",
   "metadata": {},
   "outputs": [
    {
     "data": {
      "text/plain": [
       "(1615, 6)"
      ]
     },
     "execution_count": 14,
     "metadata": {},
     "output_type": "execute_result"
    }
   ],
   "source": [
    "df.shape"
   ]
  },
  {
   "cell_type": "code",
   "execution_count": 15,
   "id": "69b569b7",
   "metadata": {},
   "outputs": [
    {
     "data": {
      "text/plain": [
       "Index(['year', 'region', 'wine', 'beer', 'vodka', 'champagne'], dtype='object')"
      ]
     },
     "execution_count": 15,
     "metadata": {},
     "output_type": "execute_result"
    }
   ],
   "source": [
    "df.columns"
   ]
  },
  {
   "cell_type": "code",
   "execution_count": 16,
   "id": "768e0818",
   "metadata": {},
   "outputs": [
    {
     "name": "stdout",
     "output_type": "stream",
     "text": [
      "<class 'pandas.core.frame.DataFrame'>\n",
      "RangeIndex: 1615 entries, 0 to 1614\n",
      "Data columns (total 6 columns):\n",
      " #   Column     Non-Null Count  Dtype  \n",
      "---  ------     --------------  -----  \n",
      " 0   year       1615 non-null   float64\n",
      " 1   region     1615 non-null   object \n",
      " 2   wine       1552 non-null   float64\n",
      " 3   beer       1557 non-null   float64\n",
      " 4   vodka      1554 non-null   float64\n",
      " 5   champagne  1552 non-null   float64\n",
      "dtypes: float64(5), object(1)\n",
      "memory usage: 75.8+ KB\n"
     ]
    }
   ],
   "source": [
    "df.info()"
   ]
  },
  {
   "cell_type": "markdown",
   "id": "181bc847",
   "metadata": {},
   "source": [
    "Checking for null values "
   ]
  },
  {
   "cell_type": "code",
   "execution_count": 17,
   "id": "5e87a574",
   "metadata": {},
   "outputs": [
    {
     "data": {
      "text/plain": [
       "year          0\n",
       "region        0\n",
       "wine         63\n",
       "beer         58\n",
       "vodka        61\n",
       "champagne    63\n",
       "dtype: int64"
      ]
     },
     "execution_count": 17,
     "metadata": {},
     "output_type": "execute_result"
    }
   ],
   "source": [
    "df.isnull().sum()"
   ]
  },
  {
   "cell_type": "code",
   "execution_count": 18,
   "id": "9de06aaa",
   "metadata": {},
   "outputs": [],
   "source": [
    "wavg = df['wine'].mean()\n",
    "bavg = df['beer'].mean()\n",
    "vavg = df['vodka'].mean()\n",
    "cavg = df['champagne'].mean()\n",
    "df['wine'].replace(np.nan, wavg, inplace = True)\n",
    "df['beer'].replace(np.nan, bavg, inplace = True)\n",
    "df['vodka'].replace(np.nan, vavg, inplace = True)\n",
    "df['champagne'].replace(np.nan, cavg, inplace = True)\n"
   ]
  },
  {
   "cell_type": "code",
   "execution_count": 19,
   "id": "c5d268db",
   "metadata": {},
   "outputs": [
    {
     "data": {
      "text/plain": [
       "year         0\n",
       "region       0\n",
       "wine         0\n",
       "beer         0\n",
       "vodka        0\n",
       "champagne    0\n",
       "dtype: int64"
      ]
     },
     "execution_count": 19,
     "metadata": {},
     "output_type": "execute_result"
    }
   ],
   "source": [
    "df.isnull().sum()"
   ]
  },
  {
   "cell_type": "markdown",
   "id": "1672babe",
   "metadata": {},
   "source": [
    "Displaying Statistical Insight about dataset."
   ]
  },
  {
   "cell_type": "code",
   "execution_count": 20,
   "id": "478f728b",
   "metadata": {},
   "outputs": [
    {
     "data": {
      "text/html": [
       "<div>\n",
       "<style scoped>\n",
       "    .dataframe tbody tr th:only-of-type {\n",
       "        vertical-align: middle;\n",
       "    }\n",
       "\n",
       "    .dataframe tbody tr th {\n",
       "        vertical-align: top;\n",
       "    }\n",
       "\n",
       "    .dataframe thead th {\n",
       "        text-align: right;\n",
       "    }\n",
       "</style>\n",
       "<table border=\"1\" class=\"dataframe\">\n",
       "  <thead>\n",
       "    <tr style=\"text-align: right;\">\n",
       "      <th></th>\n",
       "      <th>year</th>\n",
       "      <th>wine</th>\n",
       "      <th>beer</th>\n",
       "      <th>vodka</th>\n",
       "      <th>champagne</th>\n",
       "    </tr>\n",
       "  </thead>\n",
       "  <tbody>\n",
       "    <tr>\n",
       "      <th>count</th>\n",
       "      <td>1615.000000</td>\n",
       "      <td>1615.000000</td>\n",
       "      <td>1615.000000</td>\n",
       "      <td>1615.000000</td>\n",
       "      <td>1615.000000</td>\n",
       "    </tr>\n",
       "    <tr>\n",
       "      <th>mean</th>\n",
       "      <td>2007.001126</td>\n",
       "      <td>5.632562</td>\n",
       "      <td>51.305361</td>\n",
       "      <td>11.815854</td>\n",
       "      <td>1.313466</td>\n",
       "    </tr>\n",
       "    <tr>\n",
       "      <th>std</th>\n",
       "      <td>5.480820</td>\n",
       "      <td>2.756202</td>\n",
       "      <td>24.913957</td>\n",
       "      <td>5.032178</td>\n",
       "      <td>0.782333</td>\n",
       "    </tr>\n",
       "    <tr>\n",
       "      <th>min</th>\n",
       "      <td>1998.000000</td>\n",
       "      <td>0.100000</td>\n",
       "      <td>0.400000</td>\n",
       "      <td>0.050000</td>\n",
       "      <td>0.100000</td>\n",
       "    </tr>\n",
       "    <tr>\n",
       "      <th>25%</th>\n",
       "      <td>2002.000000</td>\n",
       "      <td>3.700000</td>\n",
       "      <td>32.800000</td>\n",
       "      <td>8.450000</td>\n",
       "      <td>0.800000</td>\n",
       "    </tr>\n",
       "    <tr>\n",
       "      <th>50%</th>\n",
       "      <td>2007.000000</td>\n",
       "      <td>5.500000</td>\n",
       "      <td>51.200000</td>\n",
       "      <td>11.700000</td>\n",
       "      <td>1.200000</td>\n",
       "    </tr>\n",
       "    <tr>\n",
       "      <th>75%</th>\n",
       "      <td>2012.000000</td>\n",
       "      <td>7.300000</td>\n",
       "      <td>66.865000</td>\n",
       "      <td>14.900000</td>\n",
       "      <td>1.600000</td>\n",
       "    </tr>\n",
       "    <tr>\n",
       "      <th>max</th>\n",
       "      <td>2016.472316</td>\n",
       "      <td>18.100000</td>\n",
       "      <td>207.300000</td>\n",
       "      <td>40.600000</td>\n",
       "      <td>5.560000</td>\n",
       "    </tr>\n",
       "  </tbody>\n",
       "</table>\n",
       "</div>"
      ],
      "text/plain": [
       "              year         wine         beer        vodka    champagne\n",
       "count  1615.000000  1615.000000  1615.000000  1615.000000  1615.000000\n",
       "mean   2007.001126     5.632562    51.305361    11.815854     1.313466\n",
       "std       5.480820     2.756202    24.913957     5.032178     0.782333\n",
       "min    1998.000000     0.100000     0.400000     0.050000     0.100000\n",
       "25%    2002.000000     3.700000    32.800000     8.450000     0.800000\n",
       "50%    2007.000000     5.500000    51.200000    11.700000     1.200000\n",
       "75%    2012.000000     7.300000    66.865000    14.900000     1.600000\n",
       "max    2016.472316    18.100000   207.300000    40.600000     5.560000"
      ]
     },
     "execution_count": 20,
     "metadata": {},
     "output_type": "execute_result"
    }
   ],
   "source": [
    "df.describe()"
   ]
  },
  {
   "cell_type": "code",
   "execution_count": 21,
   "id": "8864500e",
   "metadata": {},
   "outputs": [
    {
     "data": {
      "text/html": [
       "<div>\n",
       "<style scoped>\n",
       "    .dataframe tbody tr th:only-of-type {\n",
       "        vertical-align: middle;\n",
       "    }\n",
       "\n",
       "    .dataframe tbody tr th {\n",
       "        vertical-align: top;\n",
       "    }\n",
       "\n",
       "    .dataframe thead th {\n",
       "        text-align: right;\n",
       "    }\n",
       "</style>\n",
       "<table border=\"1\" class=\"dataframe\">\n",
       "  <thead>\n",
       "    <tr style=\"text-align: right;\">\n",
       "      <th></th>\n",
       "      <th>year</th>\n",
       "      <th>wine</th>\n",
       "      <th>beer</th>\n",
       "      <th>vodka</th>\n",
       "      <th>champagne</th>\n",
       "    </tr>\n",
       "  </thead>\n",
       "  <tbody>\n",
       "    <tr>\n",
       "      <th>year</th>\n",
       "      <td>1.000000</td>\n",
       "      <td>0.365287</td>\n",
       "      <td>0.384807</td>\n",
       "      <td>-0.415239</td>\n",
       "      <td>0.331916</td>\n",
       "    </tr>\n",
       "    <tr>\n",
       "      <th>wine</th>\n",
       "      <td>0.365287</td>\n",
       "      <td>1.000000</td>\n",
       "      <td>0.490463</td>\n",
       "      <td>0.276700</td>\n",
       "      <td>0.470196</td>\n",
       "    </tr>\n",
       "    <tr>\n",
       "      <th>beer</th>\n",
       "      <td>0.384807</td>\n",
       "      <td>0.490463</td>\n",
       "      <td>1.000000</td>\n",
       "      <td>0.194870</td>\n",
       "      <td>0.450797</td>\n",
       "    </tr>\n",
       "    <tr>\n",
       "      <th>vodka</th>\n",
       "      <td>-0.415239</td>\n",
       "      <td>0.276700</td>\n",
       "      <td>0.194870</td>\n",
       "      <td>1.000000</td>\n",
       "      <td>0.268447</td>\n",
       "    </tr>\n",
       "    <tr>\n",
       "      <th>champagne</th>\n",
       "      <td>0.331916</td>\n",
       "      <td>0.470196</td>\n",
       "      <td>0.450797</td>\n",
       "      <td>0.268447</td>\n",
       "      <td>1.000000</td>\n",
       "    </tr>\n",
       "  </tbody>\n",
       "</table>\n",
       "</div>"
      ],
      "text/plain": [
       "               year      wine      beer     vodka  champagne\n",
       "year       1.000000  0.365287  0.384807 -0.415239   0.331916\n",
       "wine       0.365287  1.000000  0.490463  0.276700   0.470196\n",
       "beer       0.384807  0.490463  1.000000  0.194870   0.450797\n",
       "vodka     -0.415239  0.276700  0.194870  1.000000   0.268447\n",
       "champagne  0.331916  0.470196  0.450797  0.268447   1.000000"
      ]
     },
     "execution_count": 21,
     "metadata": {},
     "output_type": "execute_result"
    }
   ],
   "source": [
    "df.corr()"
   ]
  },
  {
   "cell_type": "code",
   "execution_count": 22,
   "id": "88c083aa",
   "metadata": {},
   "outputs": [],
   "source": [
    "plt.style.use('seaborn-darkgrid')"
   ]
  },
  {
   "cell_type": "markdown",
   "id": "b4fd587b",
   "metadata": {},
   "source": [
    "# Showing heatmap for achieved correlation."
   ]
  },
  {
   "cell_type": "code",
   "execution_count": 23,
   "id": "ab1d9714",
   "metadata": {},
   "outputs": [
    {
     "data": {
      "text/plain": [
       "<AxesSubplot:>"
      ]
     },
     "execution_count": 23,
     "metadata": {},
     "output_type": "execute_result"
    },
    {
     "data": {
      "image/png": "[encoded data removed]",
      "text/plain": [
       "<Figure size 864x576 with 2 Axes>"
      ]
     },
     "metadata": {},
     "output_type": "display_data"
    }
   ],
   "source": [
    "plt.figure(figsize = (12, 8))\n",
    "sns.heatmap(df.corr(), annot = True)"
   ]
  },
  {
   "cell_type": "markdown",
   "id": "c0f762ae",
   "metadata": {},
   "source": [
    "# EDA & Visulaization"
   ]
  },
  {
   "cell_type": "code",
   "execution_count": 28,
   "id": "605b2058",
   "metadata": {},
   "outputs": [
    {
     "data": {
      "text/plain": [
       "<AxesSubplot:xlabel='year', ylabel='vodka'>"
      ]
     },
     "execution_count": 28,
     "metadata": {},
     "output_type": "execute_result"
    },
    {
     "data": {
      "image/png": "[encoded data removed]",
      "text/plain": [
       "<Figure size 1080x720 with 1 Axes>"
      ]
     },
     "metadata": {},
     "output_type": "display_data"
    }
   ],
   "source": [
    "plt.figure(figsize = (15, 10))\n",
    "sns.barplot(df['year'], df['vodka'])"
   ]
  },
  {
   "cell_type": "code",
   "execution_count": 29,
   "id": "63eaf5fd",
   "metadata": {},
   "outputs": [
    {
     "data": {
      "text/plain": [
       "<AxesSubplot:xlabel='year', ylabel='champagne'>"
      ]
     },
     "execution_count": 29,
     "metadata": {},
     "output_type": "execute_result"
    },
    {
     "data": {
      "image/png": "[encoded data removed]",
      "text/plain": [
       "<Figure size 1080x720 with 1 Axes>"
      ]
     },
     "metadata": {},
     "output_type": "display_data"
    }
   ],
   "source": [
    "plt.figure(figsize = (15, 10))\n",
    "sns.barplot(df['year'], df['champagne'])"
   ]
  },
  {
   "cell_type": "code",
   "execution_count": 31,
   "id": "07bc8676",
   "metadata": {},
   "outputs": [
    {
     "data": {
      "text/plain": [
       "Text(0.5, 1.0, 'Mean of various alcoholes')"
      ]
     },
     "execution_count": 31,
     "metadata": {},
     "output_type": "execute_result"
    },
    {
     "data": {
      "image/png": "[encoded data removed]",
      "text/plain": [
       "<Figure size 864x864 with 1 Axes>"
      ]
     },
     "metadata": {},
     "output_type": "display_data"
    }
   ],
   "source": [
    "plt.figure(figsize = (12, 12))\n",
    "data = [wavg, bavg, cavg, vavg]\n",
    "alcohol = ['Wine', 'Beer', 'Vodka', 'Champagne']\n",
    "plt.pie(data, labels = alcohol)\n",
    "plt.title('Mean of various alcoholes')"
   ]
  },
  {
   "cell_type": "code",
   "execution_count": 32,
   "id": "b7c970cc",
   "metadata": {},
   "outputs": [
    {
     "data": {
      "text/plain": [
       "<AxesSubplot:xlabel='year', ylabel='wine'>"
      ]
     },
     "execution_count": 32,
     "metadata": {},
     "output_type": "execute_result"
    },
    {
     "data": {
      "image/png": "[encoded data removed]",
      "text/plain": [
       "<Figure size 1440x360 with 1 Axes>"
      ]
     },
     "metadata": {},
     "output_type": "display_data"
    }
   ],
   "source": [
    "plt.figure(figsize = (20, 5))\n",
    "sns.lineplot(data = df, x = 'year', y = 'wine', label = 'Wine')\n",
    "sns.lineplot(data = df, x = 'year', y = 'beer', label = 'Beer')\n",
    "sns.lineplot(data = df, x = 'year', y = 'vodka', label = 'Vodka')\n",
    "sns.lineplot(data = df, x = 'year', y = 'champagne', label = 'Champagne')"
   ]
  },
  {
   "cell_type": "code",
   "execution_count": 35,
   "id": "09ab0125",
   "metadata": {},
   "outputs": [
    {
     "data": {
      "text/html": [
       "<div>\n",
       "<style scoped>\n",
       "    .dataframe tbody tr th:only-of-type {\n",
       "        vertical-align: middle;\n",
       "    }\n",
       "\n",
       "    .dataframe tbody tr th {\n",
       "        vertical-align: top;\n",
       "    }\n",
       "\n",
       "    .dataframe thead th {\n",
       "        text-align: right;\n",
       "    }\n",
       "</style>\n",
       "<table border=\"1\" class=\"dataframe\">\n",
       "  <thead>\n",
       "    <tr style=\"text-align: right;\">\n",
       "      <th></th>\n",
       "      <th>year</th>\n",
       "      <th>region</th>\n",
       "      <th>wine</th>\n",
       "      <th>beer</th>\n",
       "      <th>vodka</th>\n",
       "      <th>champagne</th>\n",
       "    </tr>\n",
       "  </thead>\n",
       "  <tbody>\n",
       "    <tr>\n",
       "      <th>0</th>\n",
       "      <td>1998.0</td>\n",
       "      <td>Republic of Adygea</td>\n",
       "      <td>1.9</td>\n",
       "      <td>8.8</td>\n",
       "      <td>3.4</td>\n",
       "      <td>0.3</td>\n",
       "    </tr>\n",
       "    <tr>\n",
       "      <th>1</th>\n",
       "      <td>1998.0</td>\n",
       "      <td>Altai Krai</td>\n",
       "      <td>3.3</td>\n",
       "      <td>19.2</td>\n",
       "      <td>11.3</td>\n",
       "      <td>1.1</td>\n",
       "    </tr>\n",
       "    <tr>\n",
       "      <th>2</th>\n",
       "      <td>1998.0</td>\n",
       "      <td>Amur Oblast</td>\n",
       "      <td>2.1</td>\n",
       "      <td>21.2</td>\n",
       "      <td>17.3</td>\n",
       "      <td>0.7</td>\n",
       "    </tr>\n",
       "    <tr>\n",
       "      <th>3</th>\n",
       "      <td>1998.0</td>\n",
       "      <td>Arkhangelsk Oblast</td>\n",
       "      <td>4.3</td>\n",
       "      <td>10.6</td>\n",
       "      <td>11.7</td>\n",
       "      <td>0.4</td>\n",
       "    </tr>\n",
       "    <tr>\n",
       "      <th>4</th>\n",
       "      <td>1998.0</td>\n",
       "      <td>Astrakhan Oblast</td>\n",
       "      <td>2.9</td>\n",
       "      <td>18.0</td>\n",
       "      <td>9.5</td>\n",
       "      <td>0.8</td>\n",
       "    </tr>\n",
       "    <tr>\n",
       "      <th>5</th>\n",
       "      <td>1998.0</td>\n",
       "      <td>Republic of Bashkortostan</td>\n",
       "      <td>1.8</td>\n",
       "      <td>17.5</td>\n",
       "      <td>10.7</td>\n",
       "      <td>0.9</td>\n",
       "    </tr>\n",
       "    <tr>\n",
       "      <th>6</th>\n",
       "      <td>1998.0</td>\n",
       "      <td>Belgorod Oblast</td>\n",
       "      <td>3.4</td>\n",
       "      <td>23.0</td>\n",
       "      <td>10.8</td>\n",
       "      <td>0.9</td>\n",
       "    </tr>\n",
       "    <tr>\n",
       "      <th>7</th>\n",
       "      <td>1998.0</td>\n",
       "      <td>Bryansk Oblast</td>\n",
       "      <td>3.4</td>\n",
       "      <td>32.4</td>\n",
       "      <td>9.7</td>\n",
       "      <td>0.5</td>\n",
       "    </tr>\n",
       "    <tr>\n",
       "      <th>8</th>\n",
       "      <td>1998.0</td>\n",
       "      <td>Republic of Buryatia</td>\n",
       "      <td>1.1</td>\n",
       "      <td>8.8</td>\n",
       "      <td>15.8</td>\n",
       "      <td>0.9</td>\n",
       "    </tr>\n",
       "    <tr>\n",
       "      <th>9</th>\n",
       "      <td>1998.0</td>\n",
       "      <td>Vladimir Oblast</td>\n",
       "      <td>1.5</td>\n",
       "      <td>16.6</td>\n",
       "      <td>16.8</td>\n",
       "      <td>0.5</td>\n",
       "    </tr>\n",
       "  </tbody>\n",
       "</table>\n",
       "</div>"
      ],
      "text/plain": [
       "     year                     region  wine  beer  vodka  champagne\n",
       "0  1998.0         Republic of Adygea   1.9   8.8    3.4        0.3\n",
       "1  1998.0                 Altai Krai   3.3  19.2   11.3        1.1\n",
       "2  1998.0                Amur Oblast   2.1  21.2   17.3        0.7\n",
       "3  1998.0         Arkhangelsk Oblast   4.3  10.6   11.7        0.4\n",
       "4  1998.0           Astrakhan Oblast   2.9  18.0    9.5        0.8\n",
       "5  1998.0  Republic of Bashkortostan   1.8  17.5   10.7        0.9\n",
       "6  1998.0            Belgorod Oblast   3.4  23.0   10.8        0.9\n",
       "7  1998.0             Bryansk Oblast   3.4  32.4    9.7        0.5\n",
       "8  1998.0       Republic of Buryatia   1.1   8.8   15.8        0.9\n",
       "9  1998.0            Vladimir Oblast   1.5  16.6   16.8        0.5"
      ]
     },
     "execution_count": 35,
     "metadata": {},
     "output_type": "execute_result"
    }
   ],
   "source": [
    "cols = ['year', 'region', 'wine', 'beer', 'vodka', 'champagne']\n",
    "X = df[cols]\n",
    "Y = df[['year']]\n",
    "X.head(10)"
   ]
  },
  {
   "cell_type": "code",
   "execution_count": 36,
   "id": "8d791c08",
   "metadata": {},
   "outputs": [],
   "source": [
    "from sklearn.preprocessing import StandardScaler\n",
    "sc = StandardScaler()\n",
    "cols = ['wine', 'beer', 'vodka', 'champagne']\n",
    "X[cols] = sc.fit_transform(X[cols])"
   ]
  },
  {
   "cell_type": "code",
   "execution_count": 37,
   "id": "78118a5e",
   "metadata": {},
   "outputs": [],
   "source": [
    "from sklearn.preprocessing import LabelEncoder\n",
    "le = LabelEncoder()\n",
    "X['region'] = le.fit_transform(X['region'])"
   ]
  },
  {
   "cell_type": "code",
   "execution_count": 38,
   "id": "52162c40",
   "metadata": {},
   "outputs": [
    {
     "data": {
      "text/html": [
       "<div>\n",
       "<style scoped>\n",
       "    .dataframe tbody tr th:only-of-type {\n",
       "        vertical-align: middle;\n",
       "    }\n",
       "\n",
       "    .dataframe tbody tr th {\n",
       "        vertical-align: top;\n",
       "    }\n",
       "\n",
       "    .dataframe thead th {\n",
       "        text-align: right;\n",
       "    }\n",
       "</style>\n",
       "<table border=\"1\" class=\"dataframe\">\n",
       "  <thead>\n",
       "    <tr style=\"text-align: right;\">\n",
       "      <th></th>\n",
       "      <th>year</th>\n",
       "      <th>region</th>\n",
       "      <th>wine</th>\n",
       "      <th>beer</th>\n",
       "      <th>vodka</th>\n",
       "      <th>champagne</th>\n",
       "    </tr>\n",
       "  </thead>\n",
       "  <tbody>\n",
       "    <tr>\n",
       "      <th>0</th>\n",
       "      <td>1998.0</td>\n",
       "      <td>47</td>\n",
       "      <td>-1.354660</td>\n",
       "      <td>-1.706615</td>\n",
       "      <td>-1.672926</td>\n",
       "      <td>-1.295841</td>\n",
       "    </tr>\n",
       "    <tr>\n",
       "      <th>1</th>\n",
       "      <td>1998.0</td>\n",
       "      <td>0</td>\n",
       "      <td>-0.846558</td>\n",
       "      <td>-1.289049</td>\n",
       "      <td>-0.102543</td>\n",
       "      <td>-0.272943</td>\n",
       "    </tr>\n",
       "    <tr>\n",
       "      <th>2</th>\n",
       "      <td>1998.0</td>\n",
       "      <td>2</td>\n",
       "      <td>-1.282074</td>\n",
       "      <td>-1.208748</td>\n",
       "      <td>1.090153</td>\n",
       "      <td>-0.784392</td>\n",
       "    </tr>\n",
       "    <tr>\n",
       "      <th>3</th>\n",
       "      <td>1998.0</td>\n",
       "      <td>3</td>\n",
       "      <td>-0.483627</td>\n",
       "      <td>-1.634344</td>\n",
       "      <td>-0.023030</td>\n",
       "      <td>-1.167979</td>\n",
       "    </tr>\n",
       "    <tr>\n",
       "      <th>4</th>\n",
       "      <td>1998.0</td>\n",
       "      <td>4</td>\n",
       "      <td>-0.991730</td>\n",
       "      <td>-1.337229</td>\n",
       "      <td>-0.460352</td>\n",
       "      <td>-0.656530</td>\n",
       "    </tr>\n",
       "  </tbody>\n",
       "</table>\n",
       "</div>"
      ],
      "text/plain": [
       "     year  region      wine      beer     vodka  champagne\n",
       "0  1998.0      47 -1.354660 -1.706615 -1.672926  -1.295841\n",
       "1  1998.0       0 -0.846558 -1.289049 -0.102543  -0.272943\n",
       "2  1998.0       2 -1.282074 -1.208748  1.090153  -0.784392\n",
       "3  1998.0       3 -0.483627 -1.634344 -0.023030  -1.167979\n",
       "4  1998.0       4 -0.991730 -1.337229 -0.460352  -0.656530"
      ]
     },
     "execution_count": 38,
     "metadata": {},
     "output_type": "execute_result"
    }
   ],
   "source": [
    "X.head()"
   ]
  },
  {
   "cell_type": "code",
   "execution_count": null,
   "id": "5943edbb",
   "metadata": {},
   "outputs": [],
   "source": []
  }
 ],
 "metadata": {
  "kernelspec": {
   "display_name": "Python 3",
   "language": "python",
   "name": "python3"
  },
  "language_info": {
   "codemirror_mode": {
    "name": "ipython",
    "version": 3
   },
   "file_extension": ".py",
   "mimetype": "text/x-python",
   "name": "python",
   "nbconvert_exporter": "python",
   "pygments_lexer": "ipython3",
   "version": "3.8.8"
  }
 },
 "nbformat": 4,
 "nbformat_minor": 5
}
