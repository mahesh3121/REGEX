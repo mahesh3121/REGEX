{
 "cells": [
  {
   "cell_type": "markdown",
   "id": "6b86a5c9",
   "metadata": {},
   "source": [
    "ML & DL Registration / Referral ID:AIRSS1190 Full Name: Mahesh Balaram Madhvi College Name: K.J.Somaiya College of Engineering"
   ]
  },
  {
   "cell_type": "markdown",
   "id": "815d9a5b",
   "metadata": {},
   "source": [
    "# Assignment 2"
   ]
  },
  {
   "cell_type": "markdown",
   "id": "2f9024a1",
   "metadata": {},
   "source": [
    "Q1. Write a function to return nth term of Fibonacci sequence. "
   ]
  },
  {
   "cell_type": "code",
   "execution_count": 1,
   "id": "4d49a6ca",
   "metadata": {},
   "outputs": [
    {
     "name": "stdout",
     "output_type": "stream",
     "text": [
      "Please enter a number: 3\n"
     ]
    },
    {
     "data": {
      "text/plain": [
       "'3th Fibonacci number is: 2'"
      ]
     },
     "execution_count": 1,
     "metadata": {},
     "output_type": "execute_result"
    }
   ],
   "source": [
    "def fib_nth_term(x):\n",
    "\n",
    "    fib_table = [0,1]                                      # Taking care of 1st and 2nd number.\n",
    "    for i in range(2, x+1):\n",
    "        fib_table.append(fib_table[i-2] + fib_table[i-1])  # creating loop for 3rd till input number. Adding previous 2 numbers\n",
    "    return \"{a}th Fibonacci number is: {b}\".format(a = (x) , b=fib_table[x])\n",
    "\n",
    "x = int(input(\"Please enter a number: \"))                  \n",
    "fib_nth_term(x)"
   ]
  },
  {
   "cell_type": "markdown",
   "id": "0ad0eb38",
   "metadata": {},
   "source": [
    "#Q2. Write a function to find out GCD of two numbers using EUCLID'S algorithm."
   ]
  },
  {
   "cell_type": "code",
   "execution_count": 2,
   "id": "19438528",
   "metadata": {},
   "outputs": [
    {
     "name": "stdout",
     "output_type": "stream",
     "text": [
      "Enter first number for finding GCD: 10\n",
      "Enter second number for finding GCD: 20\n"
     ]
    },
    {
     "data": {
      "text/plain": [
       "10"
      ]
     },
     "execution_count": 2,
     "metadata": {},
     "output_type": "execute_result"
    }
   ],
   "source": [
    "def GCD_euclid(m,n):\n",
    "#     Let's consider m > n, if not swap them\n",
    "    if m < n: \n",
    "        (m,n) = (n,m)\n",
    " \n",
    "    while m%n != 0:                  \n",
    "        (m,n) = (n,m%n)\n",
    "    return n\n",
    "\n",
    "m= int(input(\"Enter first number for finding GCD: \"))\n",
    "n= int(input(\"Enter second number for finding GCD: \"))\n",
    "GCD_euclid(m, n)"
   ]
  },
  {
   "cell_type": "markdown",
   "id": "ed490d97",
   "metadata": {},
   "source": [
    "Q3. Write a function to find LCM of two number in most optimizers way."
   ]
  },
  {
   "cell_type": "code",
   "execution_count": 3,
   "id": "4083d4fe",
   "metadata": {},
   "outputs": [
    {
     "data": {
      "text/plain": [
       "180.0"
      ]
     },
     "execution_count": 3,
     "metadata": {},
     "output_type": "execute_result"
    }
   ],
   "source": [
    "def GCD_euclid(m,n):\n",
    "#     Let's consider m > n, if not swap them\n",
    "    if m < n: \n",
    "        (m,n) = (n,m)\n",
    "    \n",
    "    while m%n != 0:\n",
    "        (m,n) = (n,m%n)\n",
    "    return n\n",
    "\n",
    "\n",
    "def best_LCM(m,n):\n",
    "    return (m*n)/GCD_euclid(m,n)\n",
    "\n",
    "best_LCM(15,36)"
   ]
  },
  {
   "cell_type": "code",
   "execution_count": null,
   "id": "8f6dc736",
   "metadata": {},
   "outputs": [],
   "source": []
  }
 ],
 "metadata": {
  "kernelspec": {
   "display_name": "Python 3",
   "language": "python",
   "name": "python3"
  },
  "language_info": {
   "codemirror_mode": {
    "name": "ipython",
    "version": 3
   },
   "file_extension": ".py",
   "mimetype": "text/x-python",
   "name": "python",
   "nbconvert_exporter": "python",
   "pygments_lexer": "ipython3",
   "version": "3.8.8"
  }
 },
 "nbformat": 4,
 "nbformat_minor": 5
}
