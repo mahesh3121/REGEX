{
 "cells": [
  {
   "cell_type": "code",
   "execution_count": 1,
   "id": "dd3ba0e1",
   "metadata": {},
   "outputs": [
    {
     "name": "stdout",
     "output_type": "stream",
     "text": [
      "1  \n",
      "\n",
      "2  1  \n",
      "\n",
      "3  2  1  \n",
      "\n",
      "4  3  2  1  \n",
      "\n",
      "5  4  3  2  1  \n",
      "\n"
     ]
    }
   ],
   "source": [
    "for i in range(1,6):\n",
    "  a=i\n",
    "  for j in range(i):\n",
    "    print(a,\" \",end=\"\")\n",
    "    a=a-1\n",
    "  print(\"\\n\")\n"
   ]
  },
  {
   "cell_type": "code",
   "execution_count": 2,
   "id": "aba1903d",
   "metadata": {},
   "outputs": [
    {
     "name": "stdout",
     "output_type": "stream",
     "text": [
      "5 5 5 5 5 \n",
      "\n",
      "5 5 5 5 \n",
      "\n",
      "5 5 5 \n",
      "\n",
      "5 5 \n",
      "\n",
      "5 \n",
      "\n"
     ]
    }
   ],
   "source": [
    "for i in range(5,0,-1):\n",
    "  for j in range(i):\n",
    "    print(\"5 \",end=\"\")\n",
    "  print(\"\\n\")"
   ]
  },
  {
   "cell_type": "code",
   "execution_count": 3,
   "id": "8dfd5c3c",
   "metadata": {},
   "outputs": [
    {
     "name": "stdout",
     "output_type": "stream",
     "text": [
      "0  1  2  3  4  5  \n",
      "\n",
      "0  1  2  3  4  \n",
      "\n",
      "0  1  2  3  \n",
      "\n",
      "0  1  2  \n",
      "\n",
      "0  1  \n",
      "\n"
     ]
    }
   ],
   "source": [
    "for i in range(5,0,-1):\n",
    "  a=0\n",
    "  for j in range(i+1):\n",
    "    print(a,\" \",end=\"\")\n",
    "    a=a+1\n",
    "  print(\"\\n\")"
   ]
  },
  {
   "cell_type": "code",
   "execution_count": 4,
   "id": "d93e9c4a",
   "metadata": {},
   "outputs": [
    {
     "name": "stdout",
     "output_type": "stream",
     "text": [
      "1  \n",
      "\n",
      "3  3  \n",
      "\n",
      "5  5  5  \n",
      "\n",
      "7  7  7  7  \n",
      "\n",
      "9  9  9  9  9  \n",
      "\n"
     ]
    }
   ],
   "source": [
    "for i in range(1,6):\n",
    "  for j in range(i):\n",
    "    print((i*2)-1,\" \",end=\"\")\n",
    "  print(\"\\n\")"
   ]
  },
  {
   "cell_type": "code",
   "execution_count": 5,
   "id": "500aed72",
   "metadata": {},
   "outputs": [
    {
     "name": "stdout",
     "output_type": "stream",
     "text": [
      "1  \n",
      "\n",
      "3  2  \n",
      "\n",
      "6  5  4  \n",
      "\n",
      "10  9  8  7  \n",
      "\n"
     ]
    }
   ],
   "source": [
    "a=0\n",
    "for i in range(1,5):\n",
    "  a=a+i\n",
    "  x=a\n",
    "  for j in range(i):\n",
    "    print(x,\" \",end=\"\")\n",
    "    x=x-1\n",
    "  print(\"\\n\")"
   ]
  },
  {
   "cell_type": "code",
   "execution_count": 6,
   "id": "b918f2fc",
   "metadata": {},
   "outputs": [
    {
     "name": "stdout",
     "output_type": "stream",
     "text": [
      "1  \n",
      "\n",
      "1  1  \n",
      "\n",
      "1  2  1  \n",
      "\n",
      "1  3  3  1  \n",
      "\n",
      "1  4  6  4  1  \n",
      "\n",
      "1  5  10  10  5  1  \n",
      "\n",
      "1  6  15  20  15  6  1  \n",
      "\n"
     ]
    }
   ],
   "source": [
    "def fac(n):\n",
    "  f=1\n",
    "  while(n>1):\n",
    "    f=f*(n)\n",
    "    n=n-1\n",
    "  return f\n",
    "\n",
    "def c(n,r):\n",
    "  return int(fac(n)/(fac(r)*fac(n-r)))\n",
    "  \n",
    "\n",
    "for i in range(0,7):\n",
    "  x=0\n",
    "  for j in range(i+1):\n",
    "    print(c(i,x),\" \",end=\"\")\n",
    "    x=x+1\n",
    "  print(\"\\n\")"
   ]
  },
  {
   "cell_type": "code",
   "execution_count": 7,
   "id": "2fc23b0f",
   "metadata": {},
   "outputs": [
    {
     "name": "stdout",
     "output_type": "stream",
     "text": [
      "1  2  3  4  5  \n",
      "\n",
      "2  2  3  4  5  \n",
      "\n",
      "3  3  3  4  5  \n",
      "\n",
      "4  4  4  4  5  \n",
      "\n",
      "5  5  5  5  5  \n",
      "\n"
     ]
    }
   ],
   "source": [
    "for i in range(1,6):\n",
    "  for j in range(i):\n",
    "    print(i,\" \",end=\"\")\n",
    "    x=i+1\n",
    "  for k in range(5-i):\n",
    "    print(x,\" \",end=\"\")\n",
    "    x=x+1\n",
    "  print('\\n')"
   ]
  },
  {
   "cell_type": "code",
   "execution_count": 8,
   "id": "18dd6762",
   "metadata": {},
   "outputs": [
    {
     "name": "stdout",
     "output_type": "stream",
     "text": [
      "1  \n",
      "\n",
      "2  4  \n",
      "\n",
      "3  6  9  \n",
      "\n",
      "4  8  12  16  \n",
      "\n",
      "5  10  15  20  25  \n",
      "\n",
      "6  12  18  24  30  36  \n",
      "\n",
      "7  14  21  28  35  42  49  \n",
      "\n",
      "8  16  24  32  40  48  56  64  \n",
      "\n"
     ]
    }
   ],
   "source": [
    "for i in range(1,9):\n",
    "  x=i\n",
    "  for j in range(i):\n",
    "    print(x,\" \",end=\"\")\n",
    "    x=x+i\n",
    "  print(\"\\n\")"
   ]
  },
  {
   "cell_type": "code",
   "execution_count": 9,
   "id": "3ca2e6cb",
   "metadata": {},
   "outputs": [
    {
     "name": "stdout",
     "output_type": "stream",
     "text": [
      "* * * * * * \n",
      "\n",
      " * * * * * \n",
      "\n",
      "  * * * * \n",
      "\n",
      "   * * * \n",
      "\n",
      "    * * \n",
      "\n",
      "     * \n",
      "\n"
     ]
    }
   ],
   "source": [
    "for i in range(0,6):\n",
    "  for j in range(i):\n",
    "    print(\" \",end=\"\")\n",
    "  for k in range(6-i):\n",
    "   print(\"* \",end=\"\")\n",
    "  print(\"\\n\")"
   ]
  },
  {
   "cell_type": "code",
   "execution_count": 10,
   "id": "271d0960",
   "metadata": {},
   "outputs": [
    {
     "name": "stdout",
     "output_type": "stream",
     "text": [
      "        \n",
      "\n",
      "       * \n",
      "\n",
      "      * * \n",
      "\n",
      "     * * * \n",
      "\n",
      "    * * * * \n",
      "\n",
      "   * * * * * \n",
      "\n",
      "  * * * * * * \n",
      "\n",
      " * * * * * * * \n",
      "\n"
     ]
    }
   ],
   "source": [
    "for i in range(0,8):\n",
    "  for j in range(8-i):\n",
    "    print(\" \",end=\"\")\n",
    "  for k in range(i):\n",
    "   print(\"* \",end=\"\")\n",
    "  print(\"\\n\")"
   ]
  },
  {
   "cell_type": "code",
   "execution_count": 11,
   "id": "4f034f7a",
   "metadata": {},
   "outputs": [
    {
     "name": "stdout",
     "output_type": "stream",
     "text": [
      "* \n",
      "\n",
      "* * \n",
      "\n",
      "* * * \n",
      "\n",
      "* * * * \n",
      "\n",
      "* * * * * \n",
      "\n",
      "* * * * * * \n",
      "\n",
      "\n",
      "\n",
      "* * * * * * \n",
      "\n",
      "* * * * * \n",
      "\n",
      "* * * * \n",
      "\n",
      "* * * \n",
      "\n",
      "* * \n",
      "\n",
      "* \n",
      "\n"
     ]
    }
   ],
   "source": [
    "for i in range(1,7):\n",
    "  for j in range(i):\n",
    "    print(\"* \",end=\"\")\n",
    "  print(\"\\n\")\n",
    "\n",
    "print(\"\\n\")\n",
    "\n",
    "for i in range(6,0,-1):\n",
    "  for j in range(i):\n",
    "    print(\"* \",end=\"\")\n",
    "  print(\"\\n\")"
   ]
  },
  {
   "cell_type": "code",
   "execution_count": 12,
   "id": "de9abeb8",
   "metadata": {},
   "outputs": [
    {
     "name": "stdout",
     "output_type": "stream",
     "text": [
      "* \n",
      "\n",
      "* * \n",
      "\n",
      "* * * \n",
      "\n",
      "* * * * \n",
      "\n",
      "* * * * * \n",
      "\n",
      "* * * * \n",
      "\n",
      "* * * \n",
      "\n",
      "* * \n",
      "\n",
      "* \n",
      "\n"
     ]
    }
   ],
   "source": [
    "for i in range(1,6):\n",
    "  for j in range(i):\n",
    "    print(\"* \",end=\"\")\n",
    "  print(\"\\n\")\n",
    "for i in range(4,0,-1):\n",
    "  for j in range(i):\n",
    "    print(\"* \",end=\"\")\n",
    "  print(\"\\n\")"
   ]
  },
  {
   "cell_type": "code",
   "execution_count": 13,
   "id": "5bf61428",
   "metadata": {},
   "outputs": [
    {
     "name": "stdout",
     "output_type": "stream",
     "text": [
      "            \n",
      "\n",
      "          * \n",
      "\n",
      "        * * \n",
      "\n",
      "      * * * \n",
      "\n",
      "    * * * * \n",
      "\n",
      "  * * * * * \n",
      "\n",
      "    * * * * \n",
      "\n",
      "      * * * \n",
      "\n",
      "        * * \n",
      "\n",
      "          * \n",
      "\n"
     ]
    }
   ],
   "source": [
    "for i in range(0,6):\n",
    "  for j in range(6-i):\n",
    "    print(\"  \",end=\"\")\n",
    "  for k in range(i):\n",
    "   print(\"* \",end=\"\")\n",
    "  print(\"\\n\")\n",
    "for i in range(1,5):\n",
    "  for j in range(i+1):\n",
    "    print(\"  \",end=\"\")\n",
    "  for k in range(5-i):\n",
    "   print(\"* \",end=\"\")\n",
    "  print(\"\\n\")"
   ]
  },
  {
   "cell_type": "code",
   "execution_count": 14,
   "id": "232b4dbf",
   "metadata": {},
   "outputs": [
    {
     "name": "stdout",
     "output_type": "stream",
     "text": [
      " * * * * * \n",
      "\n",
      "  * * * * \n",
      "\n",
      "   * * * \n",
      "\n",
      "    * * \n",
      "\n",
      "     * \n",
      "\n",
      "      \n",
      "\n",
      "     * \n",
      "\n",
      "    * * \n",
      "\n",
      "   * * * \n",
      "\n",
      "  * * * * \n",
      "\n",
      " * * * * * \n",
      "\n"
     ]
    }
   ],
   "source": [
    "for i in range(1,6):\n",
    "  for j in range(i):\n",
    "    print(\" \",end=\"\")\n",
    "  for k in range(6-i):\n",
    "   print(\"* \",end=\"\")\n",
    "  print(\"\\n\")\n",
    "for i in range(0,6):\n",
    "  for j in range(6-i):\n",
    "    print(\" \",end=\"\")\n",
    "  for k in range(i):\n",
    "   print(\"* \",end=\"\")\n",
    "  print(\"\\n\")"
   ]
  },
  {
   "cell_type": "code",
   "execution_count": 16,
   "id": "36708f70",
   "metadata": {},
   "outputs": [
    {
     "name": "stdout",
     "output_type": "stream",
     "text": [
      "* * * * * * * * * * * * * * * * \n",
      "\n",
      "* * * * * * * _ _ * * * * * * * \n",
      "\n",
      "* * * * * * _ _ _ _ * * * * * * \n",
      "\n",
      "* * * * * _ _ _ _ _ _ * * * * * \n",
      "\n",
      "* * * * _ _ _ _ _ _ _ _ * * * * \n",
      "\n",
      "* * * _ _ _ _ _ _ _ _ _ _ * * * \n",
      "\n",
      "* * _ _ _ _ _ _ _ _ _ _ _ _ * * \n",
      "\n",
      "* _ _ _ _ _ _ _ _ _ _ _ _ _ _ * \n",
      "\n"
     ]
    }
   ],
   "source": [
    "for i in range(0,8):\n",
    "\n",
    "  for j in range(8-i):\n",
    "    print(\"* \",end=\"\")\n",
    "  for k in range(i*2):\n",
    "    print(\"_ \",end=\"\")\n",
    "  for l in range(8-i):\n",
    "    print(\"* \",end=\"\")\n",
    "  print(\"\\n\")"
   ]
  },
  {
   "cell_type": "code",
   "execution_count": null,
   "id": "ccb0c863",
   "metadata": {},
   "outputs": [],
   "source": []
  }
 ],
 "metadata": {
  "kernelspec": {
   "display_name": "Python 3",
   "language": "python",
   "name": "python3"
  },
  "language_info": {
   "codemirror_mode": {
    "name": "ipython",
    "version": 3
   },
   "file_extension": ".py",
   "mimetype": "text/x-python",
   "name": "python",
   "nbconvert_exporter": "python",
   "pygments_lexer": "ipython3",
   "version": "3.8.8"
  }
 },
 "nbformat": 4,
 "nbformat_minor": 5
}
