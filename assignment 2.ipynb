{
 "cells": [
  {
   "cell_type": "markdown",
   "id": "f300e543",
   "metadata": {},
   "source": [
    "# Task  2\n",
    "ML & DL Registration / Referral ID:AIRSS1190 \n",
    "Full Name: Mahesh Balaram Madhvi \n",
    "College Name: K.J.Somaiya College of Engineering"
   ]
  },
  {
   "cell_type": "markdown",
   "id": "f4ced6a8",
   "metadata": {},
   "source": [
    "Q1. Write a lambda expression to extract first word of a string."
   ]
  },
  {
   "cell_type": "code",
   "execution_count": 1,
   "id": "91097f0f",
   "metadata": {},
   "outputs": [
    {
     "data": {
      "text/plain": [
       "'Paul'"
      ]
     },
     "execution_count": 1,
     "metadata": {},
     "output_type": "execute_result"
    }
   ],
   "source": [
    "a = 'Paul William Walker IV was an American actor'\n",
    "b = lambda str: str.split()[0]\n",
    "b(a)"
   ]
  },
  {
   "cell_type": "markdown",
   "id": "4a8598bf",
   "metadata": {},
   "source": [
    " Q2. Write a function to extract first word of s string (with many words separated by space)."
   ]
  },
  {
   "cell_type": "code",
   "execution_count": 2,
   "id": "0a71b634",
   "metadata": {},
   "outputs": [
    {
     "name": "stdout",
     "output_type": "stream",
     "text": [
      "Paul\n"
     ]
    }
   ],
   "source": [
    "def f_name(str):\n",
    "    return str.split()[0]\n",
    "\n",
    "print(f_name(a))"
   ]
  },
  {
   "cell_type": "markdown",
   "id": "61434191",
   "metadata": {},
   "source": [
    " Q3. Extract the first word from every string from a list of strings by using map function."
   ]
  },
  {
   "cell_type": "code",
   "execution_count": 3,
   "id": "41a11654",
   "metadata": {},
   "outputs": [
    {
     "data": {
      "text/plain": [
       "['Vin', 'Michelle', 'Jordana', 'Paul']"
      ]
     },
     "execution_count": 3,
     "metadata": {},
     "output_type": "execute_result"
    }
   ],
   "source": [
    "F9 = ['Vin Diesel', 'Michelle Rodriguez', 'Jordana Brewster', 'Paul Walker']\n",
    "list(map(lambda s: s.split()[0], F9))"
   ]
  },
  {
   "cell_type": "markdown",
   "id": "b3bd3ca4",
   "metadata": {},
   "source": [
    "Q4. Write a function to return a list of prime factors of a given number."
   ]
  },
  {
   "cell_type": "code",
   "execution_count": 5,
   "id": "4b59693c",
   "metadata": {},
   "outputs": [
    {
     "name": "stdout",
     "output_type": "stream",
     "text": [
      "Enter the number: 8\n",
      "[2, 2, 2]\n"
     ]
    }
   ],
   "source": [
    "def prime(x):\n",
    "    factors = []\n",
    "    divisor = 2\n",
    "    while divisor <= x:\n",
    "        if x%divisor == 0:\n",
    "            factors.append(divisor)\n",
    "            x = x/divisor \n",
    "        else:\n",
    "            divisor += 1 \n",
    "    return factors\n",
    "\n",
    "num = input('Enter the number: ')\n",
    "print(prime(int(num)))"
   ]
  },
  {
   "cell_type": "markdown",
   "id": "de206079",
   "metadata": {},
   "source": [
    "Q5. Write a function that finds 2nd largest among 4 numbers (Repetitions are allowed, without sorting)."
   ]
  },
  {
   "cell_type": "code",
   "execution_count": 6,
   "id": "e616660e",
   "metadata": {},
   "outputs": [
    {
     "name": "stdout",
     "output_type": "stream",
     "text": [
      "4 5 6 7 8\n",
      "7\n"
     ]
    }
   ],
   "source": [
    "def max_2(arr):\n",
    "    a = set(arr)\n",
    "    a = list(a)\n",
    "    b = max(a)\n",
    "    a.remove(b)\n",
    "    b = max(a)\n",
    "    return b\n",
    "\n",
    "l = input()\n",
    "l = l.split()\n",
    "l = list(map(int, l))\n",
    "print(max_2(l))"
   ]
  },
  {
   "cell_type": "code",
   "execution_count": null,
   "id": "3e10c8e4",
   "metadata": {},
   "outputs": [],
   "source": []
  }
 ],
 "metadata": {
  "kernelspec": {
   "display_name": "Python 3",
   "language": "python",
   "name": "python3"
  },
  "language_info": {
   "codemirror_mode": {
    "name": "ipython",
    "version": 3
   },
   "file_extension": ".py",
   "mimetype": "text/x-python",
   "name": "python",
   "nbconvert_exporter": "python",
   "pygments_lexer": "ipython3",
   "version": "3.8.8"
  }
 },
 "nbformat": 4,
 "nbformat_minor": 5
}
